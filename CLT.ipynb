{
 "cells": [
  {
   "cell_type": "markdown",
   "metadata": {},
   "source": [
    "## DRILL - Exploring the Central Limit Theorem"
   ]
  },
  {
   "cell_type": "code",
   "execution_count": 27,
   "metadata": {
    "collapsed": true
   },
   "outputs": [],
   "source": [
    "import numpy as np\n",
    "import pandas as pd\n",
    "import scipy\n",
    "import matplotlib.pyplot as plt\n",
    "from scipy.stats import ttest_ind\n",
    "import random\n",
    "%matplotlib inline"
   ]
  },
  {
   "cell_type": "markdown",
   "metadata": {},
   "source": [
    "First, I will make the population as per the requirments of:\n",
    "\n",
    "population_1 (n = 10, p = 0.2, size = 10000)\n",
    "population_2 (n = 10, p = 0.5, size = 10000)\n"
   ]
  },
  {
   "cell_type": "code",
   "execution_count": 28,
   "metadata": {},
   "outputs": [
    {
     "data": {
      "image/png": "[encoded data removed]",
      "text/plain": [
       "<matplotlib.figure.Figure at 0x108d8e0b8>"
      ]
     },
     "metadata": {},
     "output_type": "display_data"
    }
   ],
   "source": [
    "random.seed(2402)\n",
    "pop1 = np.random.binomial(10, 0.2, 10000)\n",
    "pop2 = np.random.binomial(10,0.5, 10000) \n",
    "\n",
    "# Let’s make histograms for the two groups. \n",
    "\n",
    "plt.hist(pop1, alpha=0.5, label='Population 1') \n",
    "plt.hist(pop2, alpha=0.5, label='Population 2') \n",
    "plt.legend(loc='upper right') \n",
    "plt.show()"
   ]
  },
  {
   "cell_type": "markdown",
   "metadata": {},
   "source": [
    "Here, samples of 100 were drawn as in the lesson. "
   ]
  },
  {
   "cell_type": "code",
   "execution_count": 29,
   "metadata": {},
   "outputs": [
    {
     "data": {
      "image/png": "[encoded data removed]",
      "text/plain": [
       "<matplotlib.figure.Figure at 0x112857a58>"
      ]
     },
     "metadata": {},
     "output_type": "display_data"
    }
   ],
   "source": [
    "random.seed(2402)\n",
    "sample1 = np.random.choice(pop1, 100, replace=True)\n",
    "sample2 = np.random.choice(pop2, 100, replace=True)\n",
    "\n",
    "plt.hist(sample1, alpha=0.5, label='sample 1') \n",
    "plt.hist(sample2, alpha=0.5, label='sample 2') \n",
    "plt.legend(loc='upper right') \n",
    "plt.show()"
   ]
  },
  {
   "cell_type": "markdown",
   "metadata": {},
   "source": [
    "### Task  1:\n",
    "\n",
    "Increase the size of your samples from 100 to 1000, then calculate the means and standard deviations for your new samples and create histograms for each. Repeat this again, decreasing the size of your samples to 20. What values change, and what remain the same?\n",
    "\n",
    "* ##### My expectations:\n",
    "\n",
    "as we increase the samples size, our means and standard deviations will be a more accurate representation of the population mean. Also, the t-value and p-value will be closer to the z-value. \n",
    "\n",
    "as we decrease our samples the opposite will happen, there will be less accuracy in the mean and standard deviations, which will cause the standard error to increase.\n",
    "\n",
    "The real answer is as follows:"
   ]
  },
  {
   "cell_type": "code",
   "execution_count": 30,
   "metadata": {},
   "outputs": [
    {
     "data": {
      "image/png": "[encoded data removed]",
      "text/plain": [
       "<matplotlib.figure.Figure at 0x1122126a0>"
      ]
     },
     "metadata": {},
     "output_type": "display_data"
    },
    {
     "name": "stdout",
     "output_type": "stream",
     "text": [
      "1.931\n",
      "4.964\n",
      "1.24909527259\n",
      "1.57565986177\n",
      "3.033\n"
     ]
    }
   ],
   "source": [
    "## Samples of 1000\n",
    "random.seed(2402)\n",
    "sample1_1 = np.random.choice(pop1, 1000, replace=True)\n",
    "sample2_1 = np.random.choice(pop2, 1000, replace=True)\n",
    "\n",
    "plt.hist(sample1_1, alpha=0.5, label='sample 1_1') \n",
    "plt.hist(sample2_1, alpha=0.5, label='sample 2_1') \n",
    "plt.axvline(sample1_1.mean(), color='r', linestyle='dashed', linewidth=2)\n",
    "plt.axvline(sample2_1.mean(), color='y', linestyle='dashed', linewidth=2)\n",
    "plt.legend(loc='upper right') \n",
    "plt.show()\n",
    "\n",
    "print(sample1_1.mean())\n",
    "print(sample2_1.mean())\n",
    "print(sample1_1.std())\n",
    "print(sample2_1.std())\n",
    "\n",
    "# Compute the difference between the two sample means.\n",
    "diff = sample2_1.mean( ) - sample1_1.mean()\n",
    "print(diff)\n"
   ]
  },
  {
   "cell_type": "code",
   "execution_count": 31,
   "metadata": {},
   "outputs": [
    {
     "name": "stdout",
     "output_type": "stream",
     "text": [
      "Ttest_indResult(statistic=47.676717307574627, pvalue=0.0)\n"
     ]
    }
   ],
   "source": [
    "## compute the T-value\n",
    "print(ttest_ind(sample2_1, sample1_1, equal_var=False))"
   ]
  },
  {
   "cell_type": "markdown",
   "metadata": {},
   "source": [
    "Refrence: \n",
    "from the lesson the values of the samples of 100 are:\n",
    "\n",
    "* 1.85\n",
    "* 5.02\n",
    "* 1.32193040664\n",
    "* 1.62468458477\n",
    "* 3.17\n",
    "* Ttest_indResult(statistic=15.968176007367394, pvalue=7.4958290644481136e-36)\n",
    "\n",
    "\n",
    "As we can see the values of the means are closer to the theoretical mean (Population means), even the standrad deviation has decreased slightly. The t-test has returned a higher t statistic and a very small p-value, showing that the difference between the two means is due to a real difference between them. \n",
    "\n",
    "\n",
    "Next we will decrease the sample size and see what happens:"
   ]
  },
  {
   "cell_type": "code",
   "execution_count": 32,
   "metadata": {},
   "outputs": [
    {
     "data": {
      "image/png": "[encoded data removed]",
      "text/plain": [
       "<matplotlib.figure.Figure at 0x1127780f0>"
      ]
     },
     "metadata": {},
     "output_type": "display_data"
    },
    {
     "name": "stdout",
     "output_type": "stream",
     "text": [
      "2.3\n",
      "4.55\n",
      "1.30766968306\n",
      "1.3955285737\n",
      "2.25\n"
     ]
    }
   ],
   "source": [
    "## Samples of 20\n",
    "random.seed(2402)\n",
    "sample1_2 = np.random.choice(pop1, 20, replace=True)\n",
    "sample2_2 = np.random.choice(pop2, 20, replace=True)\n",
    "\n",
    "plt.hist(sample1_2, alpha=0.5, label='sample 1_2') \n",
    "plt.hist(sample2_2, alpha=0.5, label='sample 2_2') \n",
    "plt.axvline(sample1_2.mean(), color='r', linestyle='dashed', linewidth=2)\n",
    "plt.axvline(sample2_2.mean(), color='y', linestyle='dashed', linewidth=2)\n",
    "plt.legend(loc='upper right') \n",
    "plt.show()\n",
    "\n",
    "print(sample1_2.mean())\n",
    "print(sample2_2.mean())\n",
    "print(sample1_2.std())\n",
    "print(sample2_2.std())\n",
    "\n",
    "# Compute the difference between the two sample means.\n",
    "diff = sample2_2.mean( ) - sample1_2.mean()\n",
    "print(diff)"
   ]
  },
  {
   "cell_type": "code",
   "execution_count": 33,
   "metadata": {},
   "outputs": [
    {
     "name": "stdout",
     "output_type": "stream",
     "text": [
      "Ttest_indResult(statistic=5.1282259406837074, pvalue=8.9799053238053904e-06)\n"
     ]
    }
   ],
   "source": [
    "## compute the T-value\n",
    "print(ttest_ind(sample2_2, sample1_2, equal_var=False))"
   ]
  },
  {
   "cell_type": "markdown",
   "metadata": {},
   "source": [
    "As is shown from the above figure, and list of results that the mean and Standard deviations (SD) have grown further from the accurate estimation of the population mean and SD. \n",
    "\n",
    "The t-test has returned a smaller t-statitic, and a larger p-value, however we can still draw the same conclusion as in the other case, since the t-statistic is made for cases with low samples relative to the z-statistic. "
   ]
  },
  {
   "cell_type": "markdown",
   "metadata": {},
   "source": [
    "### Task  2:\n",
    "\n",
    "Change the probability value (p in the NumPy documentation) for pop1 to 0.3, then take new samples and compute the t-statistic and p-value. Then change the probability value p for group 1 to 0.4, and do it again. What changes, and why?\n",
    "\n",
    "* ##### My expectations:\n",
    "\n",
    "as we increase the population probability (p in the NumPy documentation) , getting closer to the mean of the second population, we will see a decrease in variablity, which means that the t-value will get smaller and p-value will increase. the more we get closer to the second populations mean\n"
   ]
  },
  {
   "cell_type": "code",
   "execution_count": 34,
   "metadata": {},
   "outputs": [
    {
     "data": {
      "image/png": "[encoded data removed]",
      "text/plain": [
       "<matplotlib.figure.Figure at 0x1127acb70>"
      ]
     },
     "metadata": {},
     "output_type": "display_data"
    }
   ],
   "source": [
    "random.seed(2402)\n",
    "pop1_1 = np.random.binomial(10, 0.3, 10000)\n",
    "pop2 = np.random.binomial(10,0.5, 10000) \n",
    "\n",
    "# Let’s make histograms for the two groups. \n",
    "\n",
    "plt.hist(pop1_1, alpha=0.5, label='Population 1_1') \n",
    "plt.hist(pop2, alpha=0.5, label='Population 2') \n",
    "plt.axvline(pop1_1.mean(), color='r', linestyle='dashed', linewidth=2)\n",
    "plt.axvline(pop2.mean(), color='y', linestyle='dashed', linewidth=2)\n",
    "plt.legend(loc='upper right') \n",
    "plt.show()"
   ]
  },
  {
   "cell_type": "code",
   "execution_count": 35,
   "metadata": {},
   "outputs": [
    {
     "name": "stdout",
     "output_type": "stream",
     "text": [
      "Ttest_indResult(statistic=29.465489245512327, pvalue=2.8146291428100684e-158)\n"
     ]
    }
   ],
   "source": [
    "## compute the T-value for samples of 1000 from both populations:\n",
    "random.seed(2402)\n",
    "t_sample1 = np.random.choice(pop1_1, 1000, replace=True)\n",
    "t_sample2 = np.random.choice(pop2, 1000, replace=True)\n",
    "\n",
    "\n",
    "print(ttest_ind(t_sample2, t_sample1, equal_var=False))"
   ]
  },
  {
   "cell_type": "code",
   "execution_count": 36,
   "metadata": {},
   "outputs": [
    {
     "data": {
      "image/png": "[encoded data removed]",
      "text/plain": [
       "<matplotlib.figure.Figure at 0x112669400>"
      ]
     },
     "metadata": {},
     "output_type": "display_data"
    }
   ],
   "source": [
    "random.seed(2402)\n",
    "pop1_2 = np.random.binomial(10, 0.4, 10000)\n",
    "pop2 = np.random.binomial(10,0.5, 10000) \n",
    "\n",
    "# Let’s make histograms for the two groups. \n",
    "\n",
    "plt.hist(pop1, alpha=0.5, label='Population 1_2') \n",
    "plt.hist(pop2, alpha=0.5, label='Population 2') \n",
    "plt.axvline(pop1_2.mean(), color='r', linestyle='dashed', linewidth=2)\n",
    "plt.axvline(pop2.mean(), color='y', linestyle='dashed', linewidth=2)\n",
    "plt.legend(loc='upper right') \n",
    "plt.show()"
   ]
  },
  {
   "cell_type": "code",
   "execution_count": 37,
   "metadata": {},
   "outputs": [
    {
     "name": "stdout",
     "output_type": "stream",
     "text": [
      "Ttest_indResult(statistic=13.883829450774671, pvalue=6.577143310926245e-42)\n"
     ]
    }
   ],
   "source": [
    "## compute the T-value for samples of 1000 from both populations:\n",
    "random.seed(2402)\n",
    "t_sample3 = np.random.choice(pop1_2, 1000, replace=True)\n",
    "t_sample4 = np.random.choice(pop2, 1000, replace=True)\n",
    "\n",
    "\n",
    "print(ttest_ind(t_sample4, t_sample3, equal_var=False))"
   ]
  },
  {
   "cell_type": "markdown",
   "metadata": {},
   "source": []
  },
  {
   "cell_type": "markdown",
   "metadata": {},
   "source": [
    "1. Ttest_indResult(statistic=29.465489245512327, pvalue=2.8146291428100684e-158)\n",
    "2. Ttest_indResult(statistic=13.883829450774671, pvalue=6.577143310926245e-42)\n",
    "\n",
    "\n",
    "\n",
    "from the above figures, it is clear how the proability value which is where we derive our mean has led to a difference in the t-value outcomes showing that the closer the means of the samples are, the smaller the t-value gets, which is what we expect since the number of standard errors between the two means is lower for means that are closer to each other. "
   ]
  },
  {
   "cell_type": "markdown",
   "metadata": {
    "collapsed": true
   },
   "source": [
    "### Task 3:\n"
   ]
  },
  {
   "cell_type": "markdown",
   "metadata": {},
   "source": [
    "Change the distribution of your populations from binomial to a distribution of your choice. Do the sample mean values still accurately represent the population values?"
   ]
  },
  {
   "cell_type": "code",
   "execution_count": 40,
   "metadata": {},
   "outputs": [
    {
     "data": {
      "image/png": "[encoded data removed]",
      "text/plain": [
       "<matplotlib.figure.Figure at 0x112528390>"
      ]
     },
     "metadata": {},
     "output_type": "display_data"
    }
   ],
   "source": [
    "random.seed(2402)\n",
    "pop1 = np.random.exponential(0.3, 10000)\n",
    "pop2 = np.random.exponential(0.5, 10000) \n",
    "\n",
    "# Let’s make histograms for the two groups. \n",
    "\n",
    "plt.hist(pop1, alpha=0.5, label='Population 1') \n",
    "plt.hist(pop2, alpha=0.5, label='Population 2') \n",
    "plt.legend(loc='upper right') \n",
    "plt.show()"
   ]
  },
  {
   "cell_type": "code",
   "execution_count": 41,
   "metadata": {},
   "outputs": [
    {
     "data": {
      "image/png": "[encoded data removed]",
      "text/plain": [
       "<matplotlib.figure.Figure at 0x11251bd68>"
      ]
     },
     "metadata": {},
     "output_type": "display_data"
    },
    {
     "name": "stdout",
     "output_type": "stream",
     "text": [
      "0.293784600414\n",
      "0.471510544303\n",
      "0.297237730412\n",
      "0.473378387856\n",
      "0.17772594389\n"
     ]
    }
   ],
   "source": [
    "## Samples of 1000\n",
    "random.seed(2402)\n",
    "sample1_1 = np.random.choice(pop1, 1000, replace=True)\n",
    "sample2_1 = np.random.choice(pop2, 1000, replace=True)\n",
    "\n",
    "plt.hist(sample1_1, alpha=0.5, label='sample 1_1') \n",
    "plt.hist(sample2_1, alpha=0.5, label='sample 2_1') \n",
    "plt.axvline(sample1_1.mean(), color='r', linestyle='dashed', linewidth=2)\n",
    "plt.axvline(sample2_1.mean(), color='y', linestyle='dashed', linewidth=2)\n",
    "plt.legend(loc='upper right') \n",
    "plt.show()\n",
    "\n",
    "print(sample1_1.mean())\n",
    "print(sample2_1.mean())\n",
    "print(sample1_1.std())\n",
    "print(sample2_1.std())\n",
    "\n",
    "# Compute the difference between the two sample means.\n",
    "diff = sample2_1.mean( ) - sample1_1.mean()\n",
    "print(diff)\n"
   ]
  },
  {
   "cell_type": "markdown",
   "metadata": {},
   "source": [
    "the mean of each sample is a good estimate of the mean of the population, in this case it Beta or 1/Lambda\n"
   ]
  }
 ],
 "metadata": {
  "kernelspec": {
   "display_name": "Python 3",
   "language": "python",
   "name": "python3"
  },
  "language_info": {
   "codemirror_mode": {
    "name": "ipython",
    "version": 3
   },
   "file_extension": ".py",
   "mimetype": "text/x-python",
   "name": "python",
   "nbconvert_exporter": "python",
   "pygments_lexer": "ipython3",
   "version": "3.6.3"
  }
 },
 "nbformat": 4,
 "nbformat_minor": 2
}
